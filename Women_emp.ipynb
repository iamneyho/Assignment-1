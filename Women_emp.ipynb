{
 "cells": [
  {
   "cell_type": "code",
   "execution_count": 1,
   "metadata": {},
   "outputs": [
    {
     "name": "stdout",
     "output_type": "stream",
     "text": [
      "LR: 0.878889 (0.078008)\n",
      "LDA: 0.803333 (0.144705)\n",
      "KNN: 0.847778 (0.108417)\n",
      "CART: 0.944444 (0.102439)\n",
      "NB: 0.901111 (0.092222)\n",
      "SVM: 0.890000 (0.099437)\n"
     ]
    },
    {
     "name": "stderr",
     "output_type": "stream",
     "text": [
      "C:\\Users\\NEYHO\\AppData\\Local\\Temp\\ipykernel_21548\\3214668458.py:55: MatplotlibDeprecationWarning: The 'labels' parameter of boxplot() has been renamed 'tick_labels' since Matplotlib 3.9; support for the old name will be dropped in 3.11.\n",
      "  plt.boxplot(results, labels=names)\n"
     ]
    },
    {
     "data": {
      "image/png": "[encoded data removed]",
      "text/plain": [
       "<Figure size 1000x600 with 1 Axes>"
      ]
     },
     "metadata": {},
     "output_type": "display_data"
    },
    {
     "name": "stdout",
     "output_type": "stream",
     "text": [
      "The model with the best accuracy is: CART with an accuracy of 0.94\n",
      "Predicted Women's Empowerment Group for new data: High\n"
     ]
    },
    {
     "name": "stderr",
     "output_type": "stream",
     "text": [
      "c:\\Users\\NEYHO\\anaconda3\\Lib\\site-packages\\sklearn\\base.py:493: UserWarning: X does not have valid feature names, but StandardScaler was fitted with feature names\n",
      "  warnings.warn(\n"
     ]
    }
   ],
   "source": [
    "# Importing Required Libraries\n",
    "import pandas as pd\n",
    "import numpy as np\n",
    "import matplotlib.pyplot as plt\n",
    "import seaborn as sns\n",
    "from sklearn.model_selection import train_test_split, KFold, cross_val_score\n",
    "from sklearn.preprocessing import StandardScaler, LabelEncoder\n",
    "from sklearn.linear_model import LogisticRegression\n",
    "from sklearn.discriminant_analysis import LinearDiscriminantAnalysis\n",
    "from sklearn.neighbors import KNeighborsClassifier\n",
    "from sklearn.tree import DecisionTreeClassifier\n",
    "from sklearn.naive_bayes import GaussianNB\n",
    "from sklearn.svm import SVC\n",
    "\n",
    "# Loading the Women Empowerment Index Dataset\n",
    "url = \"https://raw.githubusercontent.com/iamneyho/Assignment-1/refs/heads/main/women_empowerment_index.csv\"\n",
    "data = pd.read_csv(url)\n",
    "\n",
    "# Encode categorical target column (assuming 'Women's Empowerment Group - 2022' as target)\n",
    "label_encoder = LabelEncoder()\n",
    "data[\"Women's Empowerment Group - 2022\"] = label_encoder.fit_transform(data[\"Women's Empowerment Group - 2022\"])\n",
    "# Splitting the Dataset into Features and Target\n",
    "X = data[[\"Women's Empowerment Index (WEI) - 2022\", \"Global Gender Parity Index (GGPI) - 2022\"]]\n",
    "y = data[\"Women's Empowerment Group - 2022\"]\n",
    "\n",
    "# Splitting the Dataset into Training and Validation Sets\n",
    "X_train, X_val, y_train, y_val = train_test_split(X, y, test_size=0.2, random_state=42)\n",
    "\n",
    "# Standardizing the Data\n",
    "scaler = StandardScaler()\n",
    "X_train = scaler.fit_transform(X_train)\n",
    "X_val = scaler.transform(X_val)\n",
    "\n",
    "# Model Definition: Adding Different ML Models for Evaluation\n",
    "models = []\n",
    "models.append(('LR', LogisticRegression()))\n",
    "models.append(('LDA', LinearDiscriminantAnalysis()))\n",
    "models.append(('KNN', KNeighborsClassifier()))\n",
    "models.append(('CART', DecisionTreeClassifier()))\n",
    "models.append(('NB', GaussianNB()))\n",
    "models.append(('SVM', SVC()))\n",
    "\n",
    "# Cross-Validation: Performing K-Fold Cross-Validation for Each Model\n",
    "results = []\n",
    "names = []\n",
    "for name, model in models:\n",
    "    kfold = KFold(n_splits=10, random_state=42, shuffle=True)\n",
    "    cv_results = cross_val_score(model, X_train, y_train, cv=kfold, scoring='accuracy')\n",
    "    results.append(cv_results)\n",
    "    names.append(name)\n",
    "    print(f\"{name}: {cv_results.mean():.6f} ({cv_results.std():.6f})\")\n",
    "\n",
    "# Visualization: Comparing Model Performances Using a Boxplot\n",
    "plt.figure(figsize=(10, 6))\n",
    "plt.boxplot(results, labels=names)\n",
    "plt.title('Algorithm Comparison')\n",
    "plt.ylabel('Accuracy')\n",
    "plt.show()\n",
    "\n",
    "# Conclusion: Finding the model with the best result\n",
    "best_index = np.argmax([model.mean() for model in results])\n",
    "best_model_name = names[best_index]\n",
    "print(f\"The model with the best accuracy is: {best_model_name} with an accuracy of {results[best_index].mean():.2f}\")\n",
    "\n",
    "# New Data for Prediction\n",
    "# Example: [Women's Empowerment Index, Global Gender Parity Index]\n",
    "new_data = np.array([[0.805, 0.87]])  # Replace with actual values\n",
    "new_data = scaler.transform(new_data)  # Standardizing new data\n",
    "best_model = models[best_index][1]  # Getting the best model\n",
    "best_model.fit(X_train, y_train)  # Fitting the best model to the training data\n",
    "prediction = best_model.predict(new_data)  # Making the prediction\n",
    "print(f\"Predicted Women's Empowerment Group for new data: {label_encoder.inverse_transform(prediction)[0]}\")\n"
   ]
  }
 ],
 "metadata": {
  "kernelspec": {
   "display_name": "base",
   "language": "python",
   "name": "python3"
  },
  "language_info": {
   "codemirror_mode": {
    "name": "ipython",
    "version": 3
   },
   "file_extension": ".py",
   "mimetype": "text/x-python",
   "name": "python",
   "nbconvert_exporter": "python",
   "pygments_lexer": "ipython3",
   "version": "3.12.7"
  }
 },
 "nbformat": 4,
 "nbformat_minor": 2
}
